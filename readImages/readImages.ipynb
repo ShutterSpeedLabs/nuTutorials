{
 "cells": [
  {
   "cell_type": "code",
   "execution_count": 1,
   "metadata": {},
   "outputs": [],
   "source": [
    "from nuimages import NuImages"
   ]
  },
  {
   "cell_type": "code",
   "execution_count": 2,
   "metadata": {},
   "outputs": [
    {
     "name": "stdout",
     "output_type": "stream",
     "text": [
      "======\n",
      "Loading nuImages tables for version v1.0-mini...\n",
      "Done loading in 0.000 seconds (lazy=True).\n",
      "======\n"
     ]
    }
   ],
   "source": [
    "nuim = NuImages(dataroot='/media/parashuram/AutoData/nuImagesMini/', version='v1.0-mini', verbose=True, lazy=True)"
   ]
  },
  {
   "cell_type": "code",
   "execution_count": 3,
   "metadata": {},
   "outputs": [
    {
     "name": "stdout",
     "output_type": "stream",
     "text": [
      "Loaded 25 category(s) in 0.001s,\n"
     ]
    },
    {
     "data": {
      "text/plain": [
       "{'token': '63a94dfa99bb47529567cd90d3b58384',\n",
       " 'name': 'animal',\n",
       " 'description': 'All animals, e.g. cats, rats, dogs, deer, birds.'}"
      ]
     },
     "execution_count": 3,
     "metadata": {},
     "output_type": "execute_result"
    }
   ],
   "source": [
    "nuim.category[0]"
   ]
  }
 ],
 "metadata": {
  "kernelspec": {
   "display_name": "nuEnv",
   "language": "python",
   "name": "python3"
  },
  "language_info": {
   "codemirror_mode": {
    "name": "ipython",
    "version": 3
   },
   "file_extension": ".py",
   "mimetype": "text/x-python",
   "name": "python",
   "nbconvert_exporter": "python",
   "pygments_lexer": "ipython3",
   "version": "3.10.12"
  }
 },
 "nbformat": 4,
 "nbformat_minor": 2
}
